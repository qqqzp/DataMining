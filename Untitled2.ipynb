{
 "cells": [
  {
   "cell_type": "code",
   "execution_count": 187,
   "metadata": {},
   "outputs": [
    {
     "name": "stderr",
     "output_type": "stream",
     "text": [
      "Building prefix dict from the default dictionary ...\n"
     ]
    },
    {
     "name": "stdout",
     "output_type": "stream",
     "text": [
      "﻿<REC><SYS_TOPIC>=服务粤企走出去险企推三大平台<DOC_CONTENT>=日前，由江泰国际合作联盟主办的“促进广东走出去引进来驻穗使节圆桌论坛”在穗举行。数据显示，2017年广东对外投资健康有序发展，中方实际投资额达87.5亿美元。论坛上，江泰国际合作联盟介绍了“优投”“大救星”“中国企业走出去风险发布会”三大全球平台。2018年中国企业走出去风险发布会将于3月20-21日在广东珠海举行。在往届走出去全球风险和风险版图发布、全球投资贸易服务论坛、全球救援服务论坛的基础上，今年将增加驻华使馆投资促进论坛和中国海外园区招商论坛。<REC><DOC_FORETOPIC>=保险业服务广东经济社会成效显著<SYS_TOPIC>=保险资金在粤累计投资 余额4367.6亿元<DOC_CONTENT>=30日，广东保监局2017年度新闻发布会在穗举行。记者从会上获悉，过去一年来，政策性保险服务广东经济社会取得一定成效。从服务实体经济来看，数据显示，2017年广东保险业为科技创新型企业提供风险保障4006亿元；为出口企业提供风险保障577.9亿美元，协助出口企业追回海外欠款1.1亿美元。尤其是险资入粤保持良好势头。2017年，保险资金在广东的投资规模快速增长，服务领域不断拓宽。截至2017年底，保险资金在广东累计投资余额4367.6亿元，新增1353.4亿元，新增规模较上年增加815.1亿元。保险资金服务重大基础设施投资取得新突破，4个重大基础设施项目落地，合计金额380亿元，分别为中保投广业绿色产业发展基金30亿元，国寿广州城投发展基金100亿元，国寿广州价值创新园区产业投资基金100亿元，中保投华侨城（深圳）旅游文化城市更新股权投资基金150亿元。“这些大项目，发挥了示范带动作用，为环境污染防治、粤港澳大湾区建设、城市改造、创新发展等提供了资金支持。”广东保监局新闻发言人说。从服务民生保障来看，涉农保险影响进一步扩大。去年，广东农业保险为1033万农户的农业生产提供585亿元的风险保障，赔款给付8.9亿元。“广东保险业对关系国计民生和农民安居乐业的水稻、农房等险种，坚持普惠性原则，实现应保尽保，逐步提高保障程度，商业保险已嵌入到农业生产、农户融资、农村土地流转等重要领域。”据广东保监局新闻发言人介绍，目前农业保险险种达18项，基本覆盖广东主要农作物、养殖业品种，基本覆盖广东主要的农业风险种类。其中，2017年农业保险为4175.1万亩农作物、6369.9万亩林木、2.3万头（羽）禽畜，提供风险保障585.4亿元，支付保险赔款近9亿元，受益农户近200万户次。\n",
      "rec1 :  <SYS_TOPIC>=服务粤企走出去险企推三大平台<DOC_CONTENT>=日前，由江泰国际合作联盟主办的“促进广东走出去引进来驻穗使节圆桌论坛”在穗举行。数据显示，2017年广东对外投资健康有序发展，中方实际投资额达87.5亿美元。论坛上，江泰国际合作联盟介绍了“优投”“大救星”“中国企业走出去风险发布会”三大全球平台。2018年中国企业走出去风险发布会将于3月20-21日在广东珠海举行。在往届走出去全球风险和风险版图发布、全球投资贸易服务论坛、全球救援服务论坛的基础上，今年将增加驻华使馆投资促进论坛和中国海外园区招商论坛。\n",
      "rec2 :  ﻿<DOC_FORETOPIC>=保险业服务广东经济社会成效显著<SYS_TOPIC>=保险资金在粤累计投资 余额4367.6亿元<DOC_CONTENT>=30日，广东保监局2017年度新闻发布会在穗举行。记者从会上获悉，过去一年来，政策性保险服务广东经济社会取得一定成效。从服务实体经济来看，数据显示，2017年广东保险业为科技创新型企业提供风险保障4006亿元；为出口企业提供风险保障577.9亿美元，协助出口企业追回海外欠款1.1亿美元。尤其是险资入粤保持良好势头。2017年，保险资金在广东的投资规模快速增长，服务领域不断拓宽。截至2017年底，保险资金在广东累计投资余额4367.6亿元，新增1353.4亿元，新增规模较上年增加815.1亿元。保险资金服务重大基础设施投资取得新突破，4个重大基础设施项目落地，合计金额380亿元，分别为中保投广业绿色产业发展基金30亿元，国寿广州城投发展基金100亿元，国寿广州价值创新园区产业投资基金100亿元，中保投华侨城（深圳）旅游文化城市更新股权投资基金150亿元。“这些大项目，发挥了示范带动作用，为环境污染防治、粤港澳大湾区建设、城市改造、创新发展等提供了资金支持。”广东保监局新闻发言人说。从服务民生保障来看，涉农保险影响进一步扩大。去年，广东农业保险为1033万农户的农业生产提供585亿元的风险保障，赔款给付8.9亿元。“广东保险业对关系国计民生和农民安居乐业的水稻、农房等险种，坚持普惠性原则，实现应保尽保，逐步提高保障程度，商业保险已嵌入到农业生产、农户融资、农村土地流转等重要领域。”据广东保监局新闻发言人介绍，目前农业保险险种达18项，基本覆盖广东主要农作物、养殖业品种，基本覆盖广东主要的农业风险种类。其中，2017年农业保险为4175.1万亩农作物、6369.9万亩林木、2.3万头（羽）禽畜，提供风险保障585.4亿元，支付保险赔款近9亿元，受益农户近200万户次。\n",
      "fore_topic :  \n",
      "sys_topic :  服务粤企走出去险企推三大平台\n",
      "content :  日前，由江泰国际合作联盟主办的“促进广东走出去引进来驻穗使节圆桌论坛”在穗举行。数据显示，2017年广东对外投资健康有序发展，中方实际投资额达87.5亿美元。论坛上，江泰国际合作联盟介绍了“优投”“大救星”“中国企业走出去风险发布会”三大全球平台。2018年中国企业走出去风险发布会将于3月20-21日在广东珠海举行。在往届走出去全球风险和风险版图发布、全球投资贸易服务论坛、全球救援服务论坛的基础上，今年将增加驻华使馆投资促进论坛和中国海外园区招商论坛。\n",
      "fore_topic :  保险业服务广东经济社会成效显著\n",
      "sys_topic :  保险资金在粤累计投资 余额4367.6亿元\n",
      "content :  30日，广东保监局2017年度新闻发布会在穗举行。记者从会上获悉，过去一年来，政策性保险服务广东经济社会取得一定成效。从服务实体经济来看，数据显示，2017年广东保险业为科技创新型企业提供风险保障4006亿元；为出口企业提供风险保障577.9亿美元，协助出口企业追回海外欠款1.1亿美元。尤其是险资入粤保持良好势头。2017年，保险资金在广东的投资规模快速增长，服务领域不断拓宽。截至2017年底，保险资金在广东累计投资余额4367.6亿元，新增1353.4亿元，新增规模较上年增加815.1亿元。保险资金服务重大基础设施投资取得新突破，4个重大基础设施项目落地，合计金额380亿元，分别为中保投广业绿色产业发展基金30亿元，国寿广州城投发展基金100亿元，国寿广州价值创新园区产业投资基金100亿元，中保投华侨城（深圳）旅游文化城市更新股权投资基金150亿元。“这些大项目，发挥了示范带动作用，为环境污染防治、粤港澳大湾区建设、城市改造、创新发展等提供了资金支持。”广东保监局新闻发言人说。从服务民生保障来看，涉农保险影响进一步扩大。去年，广东农业保险为1033万农户的农业生产提供585亿元的风险保障，赔款给付8.9亿元。“广东保险业对关系国计民生和农民安居乐业的水稻、农房等险种，坚持普惠性原则，实现应保尽保，逐步提高保障程度，商业保险已嵌入到农业生产、农户融资、农村土地流转等重要领域。”据广东保监局新闻发言人介绍，目前农业保险险种达18项，基本覆盖广东主要农作物、养殖业品种，基本覆盖广东主要的农业风险种类。其中，2017年农业保险为4175.1万亩农作物、6369.9万亩林木、2.3万头（羽）禽畜，提供风险保障585.4亿元，支付保险赔款近9亿元，受益农户近200万户次。\n",
      "1 服务粤企走出去险企推三大平台日前，由江泰国际合作联盟主办的“促进广东走出去引进来驻穗使节圆桌论坛”在穗举行。数据显示，2017年广东对外投资健康有序发展，中方实际投资额达87.5亿美元。论坛上，江泰国际合作联盟介绍了“优投”“大救星”“中国企业走出去风险发布会”三大全球平台。2018年中国企业走出去风险发布会将于3月20-21日在广东珠海举行。在往届走出去全球风险和风险版图发布、全球投资贸易服务论坛、全球救援服务论坛的基础上，今年将增加驻华使馆投资促进论坛和中国海外园区招商论坛。\n",
      "2 保险业服务广东经济社会成效显著保险资金在粤累计投资 余额4367.6亿元30日，广东保监局2017年度新闻发布会在穗举行。记者从会上获悉，过去一年来，政策性保险服务广东经济社会取得一定成效。从服务实体经济来看，数据显示，2017年广东保险业为科技创新型企业提供风险保障4006亿元；为出口企业提供风险保障577.9亿美元，协助出口企业追回海外欠款1.1亿美元。尤其是险资入粤保持良好势头。2017年，保险资金在广东的投资规模快速增长，服务领域不断拓宽。截至2017年底，保险资金在广东累计投资余额4367.6亿元，新增1353.4亿元，新增规模较上年增加815.1亿元。保险资金服务重大基础设施投资取得新突破，4个重大基础设施项目落地，合计金额380亿元，分别为中保投广业绿色产业发展基金30亿元，国寿广州城投发展基金100亿元，国寿广州价值创新园区产业投资基金100亿元，中保投华侨城（深圳）旅游文化城市更新股权投资基金150亿元。“这些大项目，发挥了示范带动作用，为环境污染防治、粤港澳大湾区建设、城市改造、创新发展等提供了资金支持。”广东保监局新闻发言人说。从服务民生保障来看，涉农保险影响进一步扩大。去年，广东农业保险为1033万农户的农业生产提供585亿元的风险保障，赔款给付8.9亿元。“广东保险业对关系国计民生和农民安居乐业的水稻、农房等险种，坚持普惠性原则，实现应保尽保，逐步提高保障程度，商业保险已嵌入到农业生产、农户融资、农村土地流转等重要领域。”据广东保监局新闻发言人介绍，目前农业保险险种达18项，基本覆盖广东主要农作物、养殖业品种，基本覆盖广东主要的农业风险种类。其中，2017年农业保险为4175.1万亩农作物、6369.9万亩林木、2.3万头（羽）禽畜，提供风险保障585.4亿元，支付保险赔款近9亿元，受益农户近200万户次。\n"
     ]
    },
    {
     "name": "stderr",
     "output_type": "stream",
     "text": [
      "Dumping model to file cache C:\\Users\\hasee\\AppData\\Local\\Temp\\jieba.cache\n",
      "Loading model cost 0.953 seconds.\n",
      "Prefix dict has been built succesfully.\n"
     ]
    },
    {
     "name": "stdout",
     "output_type": "stream",
     "text": [
      "Full Mode: 服务/ 粤/ 企走/ 出去/ 险企/ 推三大/ 平台/ 日前/ ，/ 由江泰/ 国际/ 合作/ 联盟/ 主办/ 的/ “/ 促进/ 广东/ 走/ 出去/ 引进/ 来/ 驻穗/ 使节/ 圆桌/ 论坛/ ”/ 在/ 穗/ 举行/ 。/ 数据/ 显示/ ，/ 2017/ 年/ 广东/ 对外/ 投资/ 健康/ 有序/ 发展/ ，/ 中方/ 实际/ 投资额/ 达/ 87.5/ 亿美元/ 。/ 论坛/ 上/ ，/ 江泰/ 国际/ 合作/ 联盟/ 介绍/ 了/ “/ 优投/ ”/ “/ 大/ 救星/ ”/ “/ 中国/ 企业/ 走/ 出去/ 风险/ 发布会/ ”/ 三大/ 全球/ 平台/ 。/ 2018/ 年/ 中国/ 企业/ 走/ 出去/ 风险/ 发布会/ 将/ 于/ 3/ 月/ 20/ -/ 21/ 日/ 在/ 广东/ 珠海/ 举行/ 。/ 在/ 往届/ 走/ 出去/ 全球/ 风险/ 和/ 风险/ 版图/ 发布/ 、/ 全球/ 投资/ 贸易/ 服务/ 论坛/ 、/ 全球/ 救援/ 服务/ 论坛/ 的/ 基础/ 上/ ，/ 今年/ 将/ 增加/ 驻华使馆/ 投资/ 促进/ 论坛/ 和/ 中国/ 海外/ 园区/ 招商/ 论坛/ 。\n"
     ]
    }
   ],
   "source": [
    "import re\n",
    "import jieba\n",
    "def clean(text):\n",
    "    pattern = re.compile(\n",
    "        r\"(南方(.+)|本报)讯( |　)(（.{2,25}）|\\(.{2,25}\\))?|\" \n",
    "        r\"(（编辑\\w{0,255}(.+)?)|\" \n",
    "        r\"\\w{0,6}：(.+)|\" \n",
    "        r\"中国\\w{0,8}公司(.+)?分公司|\" \n",
    "        r\"南方\\w{0,2}记者 (.+)?|\" \n",
    "        r\"本版\\w{0,2}/(.{1,25})?\", re.S)\n",
    "    r = pattern.sub(\"\", text).strip()\n",
    "    return r\n",
    "\n",
    "cleaned_text = ''\n",
    "with open('test.txt','r',encoding='UTF-8') as f:\n",
    "    for line in f:\n",
    "           cleaned_text += clean(line).strip('\\n').strip()\n",
    "print(cleaned_text)\n",
    "\n",
    "\n",
    "f1 = open('test1.txt','w',encoding='UTF-8')\n",
    "f1.write(cleaned_text)\n",
    "\n",
    "patten0 = r'(<REC>)(.+)(<REC>)'\n",
    "re1 = ''\n",
    "with open ('test1.txt','r',encoding='UTF-8') as f:\n",
    "    for line in f:\n",
    "        tmp = re.search(patten0,line)\n",
    "        if tmp!=None:\n",
    "            re1 += tmp.group(2)\n",
    "print('rec1 : ',re1)\n",
    "def clean1(text):\n",
    "    patten0 = re.compile(r'(<REC>)(.+)(<REC>)', re.S)\n",
    "    r1 = patten0.sub(\"\", text).strip()\n",
    "    return r1\n",
    "re2 = ''\n",
    "with open('test1.txt','r',encoding='UTF-8') as f:\n",
    "    for line in f:\n",
    "          re2 += clean1(line).strip('\\n').strip()\n",
    "print('rec2 : ',re2)\n",
    "f2 = open('re1.txt','w',encoding='UTF-8')\n",
    "f2.write(re1)\n",
    "f3 = open('re2.txt','w',encoding='UTF-8')\n",
    "f3.write(re2)\n",
    "\n",
    "patten0 = r'(<DOC_FORETOPIC>=)(.+)(<SYS_TOPIC>)'\n",
    "patten1 = r'(<SYS_TOPIC>=)(.+)(<DOC_CONTENT>)'\n",
    "patten2 = r'(<DOC_CONTENT>=)(.+)'\n",
    "fore_topic = ''\n",
    "sys_topic = ''\n",
    "content = ''\n",
    "with open ('re1.txt','r',encoding='UTF-8') as f:\n",
    "        for line in f:\n",
    "            tmp0 = re.search(patten0,line)\n",
    "            tmp1 = re.search(patten1,line)\n",
    "            tmp2 = re.search(patten2,line)\n",
    "            if tmp0!=None:\n",
    "                fore_topic += tmp0.group(2)\n",
    "            if tmp1!=None:\n",
    "                sys_topic += tmp1.group(2)\n",
    "            if tmp2!=None:\n",
    "                content += tmp2.group(2)\n",
    "print('fore_topic : ',fore_topic)\n",
    "print('sys_topic : ',sys_topic)\n",
    "print('content : ',content)\n",
    "ff2 = open('t1.txt','w',encoding='UTF-8')\n",
    "t = fore_topic+sys_topic+content\n",
    "ff2.write(t)\n",
    "\n",
    "patten0 = r'(<DOC_FORETOPIC>=)(.+)(<SYS_TOPIC>)'\n",
    "patten1 = r'(<SYS_TOPIC>=)(.+)(<DOC_CONTENT>)'\n",
    "patten2 = r'(<DOC_CONTENT>=)(.+)'\n",
    "fore_topic = ''\n",
    "sys_topic = ''\n",
    "content = ''\n",
    "with open ('re2.txt','r',encoding='UTF-8') as f:\n",
    "        for line in f:\n",
    "            tmp0 = re.search(patten0,line)\n",
    "            tmp1 = re.search(patten1,line)\n",
    "            tmp2 = re.search(patten2,line)\n",
    "            if tmp0!=None:\n",
    "                fore_topic += tmp0.group(2)\n",
    "            if tmp1!=None:\n",
    "                sys_topic += tmp1.group(2)\n",
    "            if tmp2!=None:\n",
    "                content += tmp2.group(2)\n",
    "print('fore_topic : ',fore_topic)\n",
    "print('sys_topic : ',sys_topic)\n",
    "print('content : ',content)\n",
    "ff3 = open('t2.txt','w',encoding='UTF-8')\n",
    "t1 = fore_topic+sys_topic+content\n",
    "ff3.write(t1)\n",
    "print('1',t)\n",
    "print('2',t1)"
   ]
  },
  {
   "cell_type": "code",
   "execution_count": 272,
   "metadata": {},
   "outputs": [
    {
     "name": "stdout",
     "output_type": "stream",
     "text": [
      "有 204 个汉字，16 个数字，22 个标点符号，2个字的词80 个，3个字的词6 个，4个字的词4 个，大于4个字的词0 个。\n"
     ]
    },
    {
     "data": {
      "image/png": "[encoded data removed]",
      "text/plain": [
       "<matplotlib.figure.Figure at 0x26e9572b5f8>"
      ]
     },
     "metadata": {},
     "output_type": "display_data"
    },
    {
     "name": "stdout",
     "output_type": "stream",
     "text": [
      "有 605 个汉字，97 个数字，76 个标点符号，2个字的词208 个，3个字的词32 个，4个字的词26 个，大于4个字的词8 个。\n"
     ]
    },
    {
     "data": {
      "image/png": "[encoded data removed]",
      "text/plain": [
       "<matplotlib.figure.Figure at 0x26e95857b38>"
      ]
     },
     "metadata": {},
     "output_type": "display_data"
    }
   ],
   "source": [
    "import string\n",
    "a = jieba.cut(t, cut_all=False)\n",
    "list(a)\n",
    "cnt = 0\n",
    "for x in a:\n",
    "    print(x)\n",
    "\n",
    "from collections import namedtuple\n",
    "\n",
    "def str_count(s):\n",
    "    '''找出字符串中的中英文、空格、数字、标点符号个数'''\n",
    "    count_en = count_dg = count_sp = count_zh = count_pu = 0\n",
    "\n",
    "    s_len = len(s)\n",
    "    for c in s:\n",
    "        # 英文\n",
    "        if c in string.ascii_letters:\n",
    "            count_en += 1\n",
    "        # 数字\n",
    "        elif c.isdigit():\n",
    "            count_dg += 1\n",
    "        # 空格\n",
    "        elif c.isspace():\n",
    "            count_sp += 1\n",
    "        # 中文\n",
    "        elif c.isalpha():\n",
    "            count_zh += 1\n",
    "        # 特殊字符\n",
    "        else:\n",
    "            count_pu += 1\n",
    "\n",
    "    total_chars = count_zh + count_en + count_sp + count_dg + count_pu\n",
    "    if total_chars == s_len:\n",
    "        return namedtuple('Count', ['total', 'zh', 'en', 'space', 'digit', 'punc'])(s_len, count_zh, count_en,count_sp, count_dg, count_pu)\n",
    "    else:\n",
    "        print('Something is wrong!')\n",
    "        return None\n",
    "\n",
    "if __name__ == '__main__':\n",
    "    count = str_count(t)\n",
    "    cnt2 = cnt3 = cnt4 = cnt41 = cntc = cntb = cntn = 0\n",
    "    b = jieba.cut(t,cut_all=False)\n",
    "    for x in b:\n",
    "            if(len(x)==2):\n",
    "                cnt2 += 1\n",
    "            elif(len(x)==3):\n",
    "                cnt3 += 1\n",
    "            elif(len(x)==4):\n",
    "                cnt4 += 1\n",
    "            elif(len(x)>=4):\n",
    "                cnt41 += 1\n",
    "    print('有 {} 个汉字，{} 个数字，{} 个标点符号，2个字的词{} 个，3个字的词{} 个，4个字的词{} 个，大于4个字的词{} 个。'.format(count.zh,count.digit, count.punc,cnt2,cnt3,cnt4,cnt41))\n",
    "import matplotlib.pyplot as plt\n",
    "import numpy as np\n",
    "\n",
    "n = 7\n",
    "X = np.arange(n)\n",
    "Y1 = [count.zh,count.digit, count.punc,cnt2,cnt3,cnt4,cnt41]\n",
    "\n",
    "\n",
    "# plt.bar(X, +Y1)\n",
    "# plt.bar(X, -Y2)\n",
    "\n",
    "# 用facecolor设置主体颜色，edgecolor设置边框颜色为白色\n",
    "plt.bar(X, Y1, facecolor='#9999ff', edgecolor='white')\n",
    "\n",
    "\n",
    "# 在柱状图上方或者下方加上数字 横向居中对齐ha='center'，纵向底部（顶部）对齐va='bottom'\n",
    "for x, y in zip(X, Y1):\n",
    "    plt.text(x + 0.4, y + 0.05, '%.2f' % y, ha='center', va='bottom')\n",
    "\n",
    "plt.xlim(-.5, n)\n",
    "plt.ylim(0,500)\n",
    "plt.show()\n",
    "count = str_count(t1)\n",
    "cnt2 = cnt3 = cnt4 = cnt41 = cntc = cntb = cntn = 0\n",
    "b = jieba.cut(t1,cut_all=False)\n",
    "for x in b:\n",
    "            if(len(x)==2):\n",
    "                cnt2 += 1\n",
    "            elif(len(x)==3):\n",
    "                cnt3 += 1\n",
    "            elif(len(x)==4):\n",
    "                cnt4 += 1\n",
    "            elif(len(x)>=4):\n",
    "                cnt41 += 1\n",
    "print('有 {} 个汉字，{} 个数字，{} 个标点符号，2个字的词{} 个，3个字的词{} 个，4个字的词{} 个，大于4个字的词{} 个。'.format(count.zh,count.digit, count.punc,cnt2,cnt3,cnt4,cnt41))\n",
    "\n",
    "\n",
    "n = 7\n",
    "X = np.arange(n)\n",
    "Y1 = [count.zh,count.digit, count.punc,cnt2,cnt3,cnt4,cnt41]\n",
    "\n",
    "\n",
    "# plt.bar(X, +Y1)\n",
    "# plt.bar(X, -Y2)\n",
    "\n",
    "# 用facecolor设置主体颜色，edgecolor设置边框颜色为白色\n",
    "plt.bar(X, Y1, facecolor='#9999ff', edgecolor='white')\n",
    "\n",
    "\n",
    "# 在柱状图上方或者下方加上数字 横向居中对齐ha='center'，纵向底部（顶部）对齐va='bottom'\n",
    "for x, y in zip(X, Y1):\n",
    "    plt.text(x + 0.4, y + 0.05, '%.2f' % y, ha='center', va='bottom')\n",
    "\n",
    "plt.xlim(-.5, n)\n",
    "plt.ylim(0,1000)\n",
    "plt.show()"
   ]
  },
  {
   "cell_type": "code",
   "execution_count": 268,
   "metadata": {
    "scrolled": true
   },
   "outputs": [
    {
     "data": {
      "image/png": "[encoded data removed]",
      "text/plain": [
       "<matplotlib.figure.Figure at 0x26e95695080>"
      ]
     },
     "metadata": {},
     "output_type": "display_data"
    }
   ],
   "source": []
  },
  {
   "cell_type": "code",
   "execution_count": null,
   "metadata": {},
   "outputs": [],
   "source": []
  },
  {
   "cell_type": "code",
   "execution_count": null,
   "metadata": {},
   "outputs": [],
   "source": []
  }
 ],
 "metadata": {
  "kernelspec": {
   "display_name": "Python 3",
   "language": "python",
   "name": "python3"
  },
  "language_info": {
   "codemirror_mode": {
    "name": "ipython",
    "version": 3
   },
   "file_extension": ".py",
   "mimetype": "text/x-python",
   "name": "python",
   "nbconvert_exporter": "python",
   "pygments_lexer": "ipython3",
   "version": "3.6.4"
  }
 },
 "nbformat": 4,
 "nbformat_minor": 2
}
