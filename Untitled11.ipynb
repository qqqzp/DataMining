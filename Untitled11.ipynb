{
 "cells": [
  {
   "cell_type": "code",
   "execution_count": 139,
   "metadata": {},
   "outputs": [],
   "source": [
    "import pandas as pd\n",
    "import numpy as np\n",
    "import matplotlib.pyplot as plt  "
   ]
  },
  {
   "cell_type": "code",
   "execution_count": 13,
   "metadata": {},
   "outputs": [
    {
     "data": {
      "text/plain": [
       "array([[ 0.33478115],\n",
       "       [-0.18764949],\n",
       "       [-0.14713166]])"
      ]
     },
     "execution_count": 13,
     "metadata": {},
     "output_type": "execute_result"
    }
   ],
   "source": [
    "from sklearn import cluster, datasets  \n",
    "#导入数据集\n",
    "iris = datasets.load_iris()  \n",
    "X_iris = iris.data  \n",
    "y_iris = iris.target  \n",
    "#PCA降维\n",
    "from sklearn.decomposition import PCA\n",
    "pca = PCA(n_components=1)\n",
    "reduced_X = pca.fit_transform(X_iris)\n",
    "reduced_X "
   ]
  },
  {
   "cell_type": "code",
   "execution_count": 2,
   "metadata": {},
   "outputs": [
    {
     "name": "stdout",
     "output_type": "stream",
     "text": [
      "[0 0 0 0 0 0 0 0 0 0 0 0 0 0 0 0 0 0 0 0 0 0 0 0 0 0 0 0 0 0 0 0 0 0 0 0 0\n",
      " 0 0 0 0 0 0 0 0 0 0 0 0 0 1 1 1 1 1 1 1 1 1 1 1 1 1 1 1 1 1 1 1 1 1 1 1 1\n",
      " 1 1 1 1 1 1 1 1 1 1 1 1 1 1 1 1 1 1 1 1 1 1 1 1 1 1 2 2 2 2 2 2 2 2 2 2 2\n",
      " 2 2 2 2 2 2 2 2 2 2 2 2 2 2 2 2 2 2 2 2 2 2 2 2 2 2 2 2 2 2 2 2 2 2 2 2 2\n",
      " 2 2]\n"
     ]
    },
    {
     "ename": "NameError",
     "evalue": "name 'plt' is not defined",
     "output_type": "error",
     "traceback": [
      "\u001b[1;31m---------------------------------------------------------------------------\u001b[0m",
      "\u001b[1;31mNameError\u001b[0m                                 Traceback (most recent call last)",
      "\u001b[1;32m<ipython-input-2-138c9dae9e76>\u001b[0m in \u001b[0;36m<module>\u001b[1;34m()\u001b[0m\n\u001b[0;32m      3\u001b[0m \u001b[0mx1\u001b[0m \u001b[1;33m=\u001b[0m \u001b[0mreduced_X\u001b[0m\u001b[1;33m[\u001b[0m\u001b[0my_iris\u001b[0m \u001b[1;33m==\u001b[0m \u001b[1;36m1\u001b[0m\u001b[1;33m]\u001b[0m\u001b[1;33m\u001b[0m\u001b[0m\n\u001b[0;32m      4\u001b[0m \u001b[0mx2\u001b[0m \u001b[1;33m=\u001b[0m \u001b[0mreduced_X\u001b[0m\u001b[1;33m[\u001b[0m\u001b[0my_iris\u001b[0m \u001b[1;33m==\u001b[0m \u001b[1;36m2\u001b[0m\u001b[1;33m]\u001b[0m\u001b[1;33m\u001b[0m\u001b[0m\n\u001b[1;32m----> 5\u001b[1;33m \u001b[0mplt\u001b[0m\u001b[1;33m.\u001b[0m\u001b[0mscatter\u001b[0m\u001b[1;33m(\u001b[0m\u001b[0mx0\u001b[0m\u001b[1;33m[\u001b[0m\u001b[1;33m:\u001b[0m\u001b[1;33m,\u001b[0m \u001b[1;36m0\u001b[0m\u001b[1;33m]\u001b[0m\u001b[1;33m,\u001b[0m \u001b[0mx0\u001b[0m\u001b[1;33m[\u001b[0m\u001b[1;33m:\u001b[0m\u001b[1;33m,\u001b[0m \u001b[1;36m1\u001b[0m\u001b[1;33m]\u001b[0m\u001b[1;33m,\u001b[0m \u001b[0mc\u001b[0m \u001b[1;33m=\u001b[0m \u001b[1;34m\"red\"\u001b[0m\u001b[1;33m,\u001b[0m \u001b[0mmarker\u001b[0m\u001b[1;33m=\u001b[0m\u001b[1;34m'o'\u001b[0m\u001b[1;33m,\u001b[0m \u001b[0mlabel\u001b[0m\u001b[1;33m=\u001b[0m\u001b[1;34m'label0'\u001b[0m\u001b[1;33m)\u001b[0m\u001b[1;33m\u001b[0m\u001b[0m\n\u001b[0m\u001b[0;32m      6\u001b[0m \u001b[0mplt\u001b[0m\u001b[1;33m.\u001b[0m\u001b[0mscatter\u001b[0m\u001b[1;33m(\u001b[0m\u001b[0mx1\u001b[0m\u001b[1;33m[\u001b[0m\u001b[1;33m:\u001b[0m\u001b[1;33m,\u001b[0m \u001b[1;36m0\u001b[0m\u001b[1;33m]\u001b[0m\u001b[1;33m,\u001b[0m \u001b[0mx1\u001b[0m\u001b[1;33m[\u001b[0m\u001b[1;33m:\u001b[0m\u001b[1;33m,\u001b[0m \u001b[1;36m1\u001b[0m\u001b[1;33m]\u001b[0m\u001b[1;33m,\u001b[0m \u001b[0mc\u001b[0m \u001b[1;33m=\u001b[0m \u001b[1;34m\"green\"\u001b[0m\u001b[1;33m,\u001b[0m \u001b[0mmarker\u001b[0m\u001b[1;33m=\u001b[0m\u001b[1;34m'*'\u001b[0m\u001b[1;33m,\u001b[0m \u001b[0mlabel\u001b[0m\u001b[1;33m=\u001b[0m\u001b[1;34m'label1'\u001b[0m\u001b[1;33m)\u001b[0m\u001b[1;33m\u001b[0m\u001b[0m\n\u001b[0;32m      7\u001b[0m \u001b[0mplt\u001b[0m\u001b[1;33m.\u001b[0m\u001b[0mscatter\u001b[0m\u001b[1;33m(\u001b[0m\u001b[0mx2\u001b[0m\u001b[1;33m[\u001b[0m\u001b[1;33m:\u001b[0m\u001b[1;33m,\u001b[0m \u001b[1;36m0\u001b[0m\u001b[1;33m]\u001b[0m\u001b[1;33m,\u001b[0m \u001b[0mx2\u001b[0m\u001b[1;33m[\u001b[0m\u001b[1;33m:\u001b[0m\u001b[1;33m,\u001b[0m \u001b[1;36m1\u001b[0m\u001b[1;33m]\u001b[0m\u001b[1;33m,\u001b[0m \u001b[0mc\u001b[0m \u001b[1;33m=\u001b[0m \u001b[1;34m\"blue\"\u001b[0m\u001b[1;33m,\u001b[0m \u001b[0mmarker\u001b[0m\u001b[1;33m=\u001b[0m\u001b[1;34m'+'\u001b[0m\u001b[1;33m,\u001b[0m \u001b[0mlabel\u001b[0m\u001b[1;33m=\u001b[0m\u001b[1;34m'label2'\u001b[0m\u001b[1;33m)\u001b[0m\u001b[1;33m\u001b[0m\u001b[0m\n",
      "\u001b[1;31mNameError\u001b[0m: name 'plt' is not defined"
     ]
    }
   ],
   "source": [
    "print(y_iris)\n",
    "x0 = reduced_X[y_iris == 0]\n",
    "x1 = reduced_X[y_iris == 1]\n",
    "x2 = reduced_X[y_iris == 2]\n",
    "plt.scatter(x0[:, 0], x0[:, 1], c = \"red\", marker='o', label='label0')  \n",
    "plt.scatter(x1[:, 0], x1[:, 1], c = \"green\", marker='*', label='label1')  \n",
    "plt.scatter(x2[:, 0], x2[:, 1], c = \"blue\", marker='+', label='label2')  \n",
    "plt.legend(loc=2)  \n",
    "plt.show()  #用给出的标签画出的数据分布图"
   ]
  },
  {
   "cell_type": "code",
   "execution_count": 391,
   "metadata": {},
   "outputs": [
    {
     "name": "stdout",
     "output_type": "stream",
     "text": [
      "[0 0 0 0 0 0 0 0 0 0 0 0 0 0 0 0 0 0 0 0 0 0 0 0 0 0 0 0 0 0 0 0 0 0 0 0 0\n",
      " 0 0 0 0 0 0 0 0 0 0 0 0 0 1 1 2 1 1 1 1 1 1 1 1 1 1 1 1 1 1 1 1 1 1 1 1 1\n",
      " 1 1 1 2 1 1 1 1 1 1 1 1 1 1 1 1 1 1 1 1 1 1 1 1 1 1 2 1 2 2 2 2 1 2 2 2 2\n",
      " 2 2 1 1 2 2 2 2 1 2 1 2 1 2 2 1 1 2 2 2 2 2 1 2 2 2 2 1 2 2 2 1 2 2 2 1 2\n",
      " 2 1]\n"
     ]
    },
    {
     "data": {
      "image/png": "[encoded data removed]",
      "text/plain": [
       "<matplotlib.figure.Figure at 0x1e709046d30>"
      ]
     },
     "metadata": {},
     "output_type": "display_data"
    }
   ],
   "source": [
    "from sklearn.cluster import KMeans\n",
    "km = KMeans(n_clusters=3).fit_predict(X_iris)  # 参数自己调\n",
    "print(km)\n",
    "x0 = reduced_X[km == 0]\n",
    "x1 = reduced_X[km == 1]\n",
    "x2 = reduced_X[km == 2]\n",
    "plt.scatter(x0[:, 0], x0[:, 1], c = \"red\", marker='o', label='label0')  \n",
    "plt.scatter(x1[:, 0], x1[:, 1], c = \"green\", marker='*', label='label1')  \n",
    "plt.scatter(x2[:, 0], x2[:, 1], c = \"blue\", marker='+', label='label2')  \n",
    "plt.legend(loc=2)  \n",
    "plt.savefig('K_mean.png')\n",
    "plt.show()  "
   ]
  },
  {
   "cell_type": "code",
   "execution_count": 392,
   "metadata": {},
   "outputs": [
    {
     "name": "stdout",
     "output_type": "stream",
     "text": [
      "[0 0 0 0 0 0 0 0 0 0 0 0 0 0 0 0 0 0 0 0 0 0 0 0 0 0 0 0 0 0 0 0 0 0 0 0 0\n",
      " 0 0 0 0 0 0 0 0 0 0 0 0 0 1 1 1 1 1 1 1 1 1 1 1 1 1 1 1 1 1 1 1 1 1 1 1 1\n",
      " 1 1 1 2 1 1 1 1 1 1 1 1 1 1 1 1 1 1 1 1 1 1 1 1 0 1 2 1 2 2 2 2 1 2 2 2 2\n",
      " 2 2 1 1 2 2 2 2 1 2 1 2 1 2 2 1 1 2 2 2 2 2 1 1 2 2 2 1 2 2 2 1 2 2 2 1 2\n",
      " 2 0]\n"
     ]
    },
    {
     "data": {
      "image/png": "[encoded data removed]",
      "text/plain": [
       "<matplotlib.figure.Figure at 0x1e70a757eb8>"
      ]
     },
     "metadata": {},
     "output_type": "display_data"
    }
   ],
   "source": [
    "from sklearn.cluster import MeanShift, estimate_bandwidth\n",
    "bandwidth = estimate_bandwidth(X_iris, quantile=0.185, n_samples=500)  # 参数自己调\n",
    "ms = MeanShift(bandwidth=bandwidth, bin_seeding=True).fit_predict(X_iris)\n",
    "#更改标签名\n",
    "for i in range(0,ms.size-1):\n",
    "    if ms[i] == 0:\n",
    "        ms[i] = 1\n",
    "    elif ms[i] == 1:\n",
    "        ms[i] = 0\n",
    "print(ms)\n",
    "x0 = reduced_X[ms == 0]\n",
    "x1 = reduced_X[ms == 1]\n",
    "x2 = reduced_X[ms == 2]\n",
    "plt.scatter(x0[:, 0], x0[:, 1], c = \"red\", marker='o', label='label0')  \n",
    "plt.scatter(x1[:, 0], x1[:, 1], c = \"green\", marker='*', label='label1')  \n",
    "plt.scatter(x2[:, 0], x2[:, 1], c = \"blue\", marker='+', label='label2')  \n",
    "plt.legend(loc=2)  \n",
    "plt.savefig('Mean_shift.png')\n",
    "plt.show()  "
   ]
  },
  {
   "cell_type": "code",
   "execution_count": 398,
   "metadata": {},
   "outputs": [
    {
     "name": "stdout",
     "output_type": "stream",
     "text": [
      "[0 0 0 0 0 0 0 0 0 0 0 0 0 0 4 0 0 0 0 0 0 0 4 0 0 0 0 0 0 0 0 0 0 0 0 0 0\n",
      " 0 0 0 0 4 0 0 0 0 0 0 0 0 1 1 1 1 1 1 1 3 1 1 3 1 4 1 4 1 1 1 4 1 2 1 2 1\n",
      " 1 1 1 1 1 1 1 1 1 2 1 1 1 4 1 1 1 1 1 3 1 1 1 1 3 1 4 2 2 2 2 4 4 4 4 4 2\n",
      " 2 2 2 4 2 2 4 4 4 2 2 4 2 2 2 2 2 2 2 4 4 2 2 4 4 2 2 2 2 2 2 2 2 2 2 2 2\n",
      " 2 3]\n"
     ]
    },
    {
     "data": {
      "image/png": "[encoded data removed]",
      "text/plain": [
       "<matplotlib.figure.Figure at 0x1e70a6ad898>"
      ]
     },
     "metadata": {},
     "output_type": "display_data"
    }
   ],
   "source": [
    "from sklearn.cluster import DBSCAN\n",
    "db = DBSCAN(eps=0.4, min_samples=3).fit_predict(X_iris)  # 参数自己调\n",
    "#更改标签名\n",
    "for i in range(0,db.size-1):\n",
    "    if db[i] == 3:\n",
    "        db[i] = 2\n",
    "    elif db[i] == 2:\n",
    "        db[i] = 3\n",
    "    elif db[i] == -1:\n",
    "        db[i] = 4\n",
    "print(db)\n",
    "x0 = reduced_X[db == 0]\n",
    "x1 = reduced_X[db == 1]\n",
    "x2 = reduced_X[db == 2]\n",
    "x3 = reduced_X[db == 3]\n",
    "plt.scatter(x0[:, 0], x0[:, 1], c = \"red\", marker='o', label='label0')  \n",
    "plt.scatter(x1[:, 0], x1[:, 1], c = \"green\", marker='*', label='label1')  \n",
    "plt.scatter(x2[:, 0], x2[:, 1], c = \"blue\", marker='+', label='label2')  \n",
    "plt.scatter(x3[:, 0], x3[:, 1], c = \"black\", marker='.', label='label3')  \n",
    "plt.legend(loc=2)  \n",
    "plt.savefig('DBSCAN.png')\n",
    "plt.show()  "
   ]
  },
  {
   "cell_type": "code",
   "execution_count": 460,
   "metadata": {},
   "outputs": [],
   "source": [
    "def save_result(filename,test_labels,answer):\n",
    "\ttotal=np.bincount(answer)\n",
    "\ttest=np.bincount(test_labels)\n",
    "\tcorrect=np.zeros([10,1])\n",
    "\tp=[];r=[];F=[];\n",
    "\tcls=np.arange(0,3,1)\n",
    "\tfor i in range(len(answer)):\n",
    "\t    if answer[i]==test_labels[i]==0:\n",
    "\t        correct[0]+=1\n",
    "\t    if answer[i]==test_labels[i]==1:\n",
    "\t        correct[1]+=1\n",
    "\t    if answer[i]==test_labels[i]==2:\n",
    "\t        correct[2]+=1\n",
    "\tfor i in range(len(total)):\n",
    "\t    pc=(correct[i])/test[i]\n",
    "\t    rc=(correct[i])/total[i]\n",
    "\t    F1=2*(pc*rc)/(pc+rc)\n",
    "\t    p.append(\"%.4f\"%pc)\n",
    "\t    r.append(\"%.4f\"%rc)\n",
    "\t    F.append(\"%.4f\"%F1)\n",
    "\tcls_frame = pd.Series(cls, name='class')\n",
    "\tp_frame=pd.Series(p, name='Precision')\n",
    "\tr_frame=pd.Series(r, name='Recall')\n",
    "\tF_frame=pd.Series(F, name='F1-Score')\n",
    "\tdataframe = pd.concat([cls_frame,p_frame,r_frame,F_frame], axis=1)\n",
    "\tdataframe.to_csv('%s.csv'%filename,index=False,sep=',')\n",
    "\n"
   ]
  },
  {
   "cell_type": "code",
   "execution_count": 461,
   "metadata": {},
   "outputs": [],
   "source": [
    "save_result('K_mean',km,y_iris)"
   ]
  },
  {
   "cell_type": "code",
   "execution_count": 462,
   "metadata": {},
   "outputs": [],
   "source": [
    "save_result('Mean_shift',ms,y_iris)"
   ]
  },
  {
   "cell_type": "code",
   "execution_count": 463,
   "metadata": {},
   "outputs": [],
   "source": [
    "save_result('DBSCAN',db,y_iris)"
   ]
  },
  {
   "cell_type": "code",
   "execution_count": null,
   "metadata": {},
   "outputs": [],
   "source": []
  }
 ],
 "metadata": {
  "kernelspec": {
   "display_name": "Python 3",
   "language": "python",
   "name": "python3"
  },
  "language_info": {
   "codemirror_mode": {
    "name": "ipython",
    "version": 3
   },
   "file_extension": ".py",
   "mimetype": "text/x-python",
   "name": "python",
   "nbconvert_exporter": "python",
   "pygments_lexer": "ipython3",
   "version": "3.6.4"
  }
 },
 "nbformat": 4,
 "nbformat_minor": 2
}
